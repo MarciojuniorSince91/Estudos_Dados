{
 "cells": [
  {
   "cell_type": "code",
   "execution_count": null,
   "metadata": {},
   "outputs": [],
   "source": [
    "import pandas as pd\n",
    "dados = pd.read_excel('65561consumo.xlsx')\n",
    "dados.head()"
   ]
  },
  {
   "cell_type": "code",
   "execution_count": null,
   "metadata": {},
   "outputs": [],
   "source": [
    "#Moda da analise dos dados\n",
    "print('Moda',dados['Grupo1'].mode())\n",
    "print('Moda',dados['Grupo2'].mode())\n",
    "print('Moda',dados['Grupo3'].mode())"
   ]
  },
  {
   "cell_type": "code",
   "execution_count": null,
   "metadata": {},
   "outputs": [],
   "source": [
    "#Dispersão com comando rapido \n",
    "print(dados['Grupo1'].describe())\n",
    "print(dados['Grupo2'].describe())\n",
    "print(dados['Grupo3'].describe())"
   ]
  },
  {
   "cell_type": "code",
   "execution_count": null,
   "metadata": {},
   "outputs": [],
   "source": [
    "#metricas de dispersão Grupo1\n",
    "print('Amplitude:', dados['Grupo1'].max()-dados['Grupo1'].min())\n",
    "print('Variancia:', dados['Grupo1'].min())\n",
    "print('Desvio Padrão:', dados['Grupo1'].std())\n",
    "print('Coeficiencia de Variação:', dados['Grupo1'].std()/dados['Grupo1'].mean())"
   ]
  },
  {
   "cell_type": "code",
   "execution_count": null,
   "metadata": {},
   "outputs": [],
   "source": [
    "#metricas de dispersão Grupo2\n",
    "print('Amplitude:', dados['Grupo2'].max()-dados['Grupo2'].min())\n",
    "print('Variancia:', dados['Grupo2'].min())\n",
    "print('Desvio Padrão:', dados['Grupo2'].std())\n",
    "print('Coeficiencia de Variação:', dados['Grupo2'].std()/dados['Grupo2'].mean())"
   ]
  },
  {
   "cell_type": "code",
   "execution_count": null,
   "metadata": {},
   "outputs": [],
   "source": [
    "#metricas de dispersão Grupo3\n",
    "print('Amplitude:', dados['Grupo3'].max()-dados['Grupo3'].min())\n",
    "print('Variancia:', dados['Grupo3'].min())\n",
    "print('Desvio Padrão:', dados['Grupo3'].std())\n",
    "print('Coeficiencia de Variação:', dados['Grupo3'].std()/dados['Grupo3'].mean())"
   ]
  }
 ],
 "metadata": {
  "kernelspec": {
   "display_name": "base",
   "language": "python",
   "name": "python3"
  },
  "language_info": {
   "codemirror_mode": {
    "name": "ipython",
    "version": 3
   },
   "file_extension": ".py",
   "mimetype": "text/x-python",
   "name": "python",
   "nbconvert_exporter": "python",
   "pygments_lexer": "ipython3",
   "version": "3.12.7"
  }
 },
 "nbformat": 4,
 "nbformat_minor": 2
}
